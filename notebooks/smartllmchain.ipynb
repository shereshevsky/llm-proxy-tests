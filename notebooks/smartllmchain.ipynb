{
 "cells": [
  {
   "cell_type": "code",
   "execution_count": 1,
   "id": "initial_id",
   "metadata": {
    "collapsed": true,
    "ExecuteTime": {
     "end_time": "2024-04-01T15:27:04.745808Z",
     "start_time": "2024-04-01T15:27:04.739685Z"
    }
   },
   "outputs": [],
   "source": [
    "import os\n",
    "from dotenv import load_dotenv\n"
   ]
  },
  {
   "cell_type": "code",
   "outputs": [
    {
     "data": {
      "text/plain": "True"
     },
     "execution_count": 2,
     "metadata": {},
     "output_type": "execute_result"
    }
   ],
   "source": [
    "load_dotenv('../.env')"
   ],
   "metadata": {
    "collapsed": false,
    "ExecuteTime": {
     "end_time": "2024-04-01T15:27:07.423189Z",
     "start_time": "2024-04-01T15:27:07.418657Z"
    }
   },
   "id": "17ee0152417522a9",
   "execution_count": 2
  },
  {
   "cell_type": "code",
   "outputs": [],
   "source": [
    "cert_file = '/Users/alexander/Documents/mitmproxy-ca-cert.pem' \n",
    "os.environ['REQUESTS_CA_BUNDLE'] = cert_file\n",
    "os.environ['SSL_CERT_FILE'] = cert_file\n",
    "os.environ['HTTPS_PROXY'] = 'http://127.0.0.1:8080'"
   ],
   "metadata": {
    "collapsed": false,
    "ExecuteTime": {
     "end_time": "2024-04-01T15:27:13.852619Z",
     "start_time": "2024-04-01T15:27:13.849711Z"
    }
   },
   "id": "6a36cb9339615e81",
   "execution_count": 3
  },
  {
   "cell_type": "code",
   "outputs": [],
   "source": [
    "from langchain.prompts import PromptTemplate\n",
    "from langchain_experimental.smart_llm import SmartLLMChain\n",
    "from langchain_openai import ChatOpenAI"
   ],
   "metadata": {
    "collapsed": false,
    "ExecuteTime": {
     "end_time": "2024-04-01T15:31:45.827388Z",
     "start_time": "2024-04-01T15:31:45.435454Z"
    }
   },
   "id": "d13d50f7c4054abc",
   "execution_count": 5
  },
  {
   "cell_type": "code",
   "outputs": [],
   "source": [
    "hard_question = \"I have a 12 liter jug and a 6 liter jug.\\\n",
    "I want to measure 6 liters. How do I do it?\"\n",
    "prompt = PromptTemplate.from_template(hard_question)\n",
    "llm = ChatOpenAI(temperature=0, model_name=\"gpt-3.5-turbo\")"
   ],
   "metadata": {
    "collapsed": false,
    "ExecuteTime": {
     "end_time": "2024-04-01T15:32:04.223558Z",
     "start_time": "2024-04-01T15:32:04.211255Z"
    }
   },
   "id": "cddda39e86327e70",
   "execution_count": 6
  },
  {
   "cell_type": "code",
   "outputs": [
    {
     "name": "stderr",
     "output_type": "stream",
     "text": [
      "/Users/alexander/llm-proxy-tests/.venv/lib/python3.11/site-packages/langchain_core/_api/deprecation.py:117: LangChainDeprecationWarning: The function `run` was deprecated in LangChain 0.1.0 and will be removed in 0.2.0. Use invoke instead.\n",
      "  warn_deprecated(\n"
     ]
    },
    {
     "name": "stdout",
     "output_type": "stream",
     "text": [
      "\n",
      "\n",
      "\u001B[1m> Entering new SmartLLMChain chain...\u001B[0m\n",
      "Prompt after formatting:\n",
      "\u001B[32;1m\u001B[1;3mI have a 12 liter jug and a 6 liter jug.I want to measure 6 liters. How do I do it?\u001B[0m\n",
      "Idea 1:\n",
      "\u001B[36;1m\u001B[1;3m1. Fill the 12 liter jug completely.\n",
      "2. Pour the water from the 12 liter jug into the 6 liter jug until the 6 liter jug is full. This will leave you with 6 liters of water in the 12 liter jug.\n",
      "3. Empty the 6 liter jug.\n",
      "4. Pour the remaining 6 liters of water from the 12 liter jug into the empty 6 liter jug.\n",
      "5. You now have exactly 6 liters of water in the 6 liter jug.\u001B[0m\n",
      "Idea 2:\n",
      "\u001B[36;1m\u001B[1;3m1. Fill the 12 liter jug completely with water.\n",
      "2. Pour water from the 12 liter jug into the 6 liter jug until the 6 liter jug is full. This will leave 6 liters of water in the 12 liter jug.\n",
      "3. Empty the 6 liter jug.\n",
      "4. Pour the remaining 6 liters of water from the 12 liter jug into the empty 6 liter jug.\n",
      "5. You now have exactly 6 liters of water in the 6 liter jug.\u001B[0m\n",
      "Critique:\n",
      "\u001B[33;1m\u001B[1;3mFlaws and faulty logic in Idea 1:\n",
      "1. The first step of filling the 12 liter jug completely is unnecessary as it does not contribute to the final goal of measuring 6 liters.\n",
      "2. Pouring water from the 12 liter jug into the 6 liter jug until it is full will not necessarily leave exactly 6 liters in the 12 liter jug. It may leave more or less than 6 liters.\n",
      "3. Emptying the 6 liter jug after transferring water from the 12 liter jug is an unnecessary step that does not contribute to the final goal.\n",
      "4. Pouring the remaining water from the 12 liter jug into the empty 6 liter jug may not result in exactly 6 liters in the 6 liter jug, as the initial measurement in the 12 liter jug may not have been accurate.\n",
      "\n",
      "Flaws and faulty logic in Idea 2:\n",
      "1. Similar to Idea 1, the first step of filling the 12 liter jug completely is unnecessary and does not contribute to the final goal.\n",
      "2. Pouring water from the 12 liter jug into the 6 liter jug until it is full may not result in exactly 6 liters remaining in the 12 liter jug, as the initial measurement may not have been accurate.\n",
      "3. Emptying the 6 liter jug after transferring water is an unnecessary step that does not contribute to the final goal.\n",
      "4. Pouring the remaining water from the 12 liter jug into the empty 6 liter jug may not result in exactly 6 liters in the 6 liter jug, as the initial measurement in the 12 liter jug may not have been accurate.\n",
      "\n",
      "In conclusion, both Idea 1 and Idea 2 have flaws in their logic and steps that do not guarantee an accurate measurement of 6 liters. A more precise and accurate method may be needed to ensure the correct measurement.\u001B[0m\n",
      "Resolution:\n",
      "\u001B[32;1m\u001B[1;3mFill the 12 liter jug completely with water. Pour water from the 12 liter jug into the 6 liter jug until the 6 liter jug is full. This will leave 6 liters of water in the 12 liter jug. Pour the remaining 6 liters of water from the 12 liter jug into the empty 6 liter jug. You now have exactly 6 liters of water in the 6 liter jug.\u001B[0m\n",
      "\n",
      "\u001B[1m> Finished chain.\u001B[0m\n"
     ]
    }
   ],
   "source": [
    "chain = SmartLLMChain(llm=llm, prompt=prompt, \n",
    "                      n_ideas=2, \n",
    "                      verbose=True)\n",
    "result = chain.invoke({})"
   ],
   "metadata": {
    "collapsed": false,
    "ExecuteTime": {
     "end_time": "2024-04-01T15:32:38.406737Z",
     "start_time": "2024-04-01T15:32:17.503588Z"
    }
   },
   "id": "a5359089affae3da",
   "execution_count": 7
  },
  {
   "cell_type": "code",
   "outputs": [],
   "source": [],
   "metadata": {
    "collapsed": false
   },
   "id": "e7e290ad112c8bf2"
  }
 ],
 "metadata": {
  "kernelspec": {
   "display_name": "Python 3",
   "language": "python",
   "name": "python3"
  },
  "language_info": {
   "codemirror_mode": {
    "name": "ipython",
    "version": 2
   },
   "file_extension": ".py",
   "mimetype": "text/x-python",
   "name": "python",
   "nbconvert_exporter": "python",
   "pygments_lexer": "ipython2",
   "version": "2.7.6"
  }
 },
 "nbformat": 4,
 "nbformat_minor": 5
}
