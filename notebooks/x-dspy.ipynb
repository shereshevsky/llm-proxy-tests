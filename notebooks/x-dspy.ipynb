{
 "cells": [
  {
   "cell_type": "code",
   "execution_count": 5,
   "id": "initial_id",
   "metadata": {
    "collapsed": true,
    "ExecuteTime": {
     "end_time": "2024-04-01T15:40:32.550562Z",
     "start_time": "2024-04-01T15:40:32.543681Z"
    }
   },
   "outputs": [],
   "source": [
    "import os\n",
    "from dotenv import load_dotenv"
   ]
  },
  {
   "cell_type": "code",
   "outputs": [
    {
     "data": {
      "text/plain": "True"
     },
     "execution_count": 6,
     "metadata": {},
     "output_type": "execute_result"
    }
   ],
   "source": [
    "load_dotenv('../.env')"
   ],
   "metadata": {
    "collapsed": false,
    "ExecuteTime": {
     "end_time": "2024-04-01T15:40:32.804459Z",
     "start_time": "2024-04-01T15:40:32.797967Z"
    }
   },
   "id": "18848746efee2fe5",
   "execution_count": 6
  },
  {
   "cell_type": "code",
   "outputs": [],
   "source": [
    "cert_file = '/Users/alexander/Documents/mitmproxy-ca-cert.pem' \n",
    "os.environ['REQUESTS_CA_BUNDLE'] = cert_file\n",
    "os.environ['SSL_CERT_FILE'] = cert_file\n",
    "os.environ['HTTPS_PROXY'] = 'http://127.0.0.1:8080'"
   ],
   "metadata": {
    "collapsed": false,
    "ExecuteTime": {
     "end_time": "2024-04-01T15:40:32.990546Z",
     "start_time": "2024-04-01T15:40:32.988061Z"
    }
   },
   "id": "ad6073fdd0d55e82",
   "execution_count": 7
  },
  {
   "cell_type": "code",
   "outputs": [
    {
     "ename": "SyntaxError",
     "evalue": "Missing parentheses in call to 'print'. Did you mean print(...)? (player.py, line 38)",
     "output_type": "error",
     "traceback": [
      "Traceback \u001B[0;36m(most recent call last)\u001B[0m:\n",
      "\u001B[0m  File \u001B[1;32m~/llm-proxy-tests/.venv/lib/python3.11/site-packages/IPython/core/interactiveshell.py:3577\u001B[0m in \u001B[1;35mrun_code\u001B[0m\n    exec(code_obj, self.user_global_ns, self.user_ns)\u001B[0m\n",
      "\u001B[0m  Cell \u001B[1;32mIn[8], line 2\u001B[0m\n    import dspy\u001B[0m\n",
      "\u001B[0;36m  File \u001B[0;32m~/llm-proxy-tests/.venv/lib/python3.11/site-packages/dspy/__init__.py:12\u001B[0;36m\n\u001B[0;31m    from dspy.player import Player\u001B[0;36m\n",
      "\u001B[0;36m  File \u001B[0;32m~/llm-proxy-tests/.venv/lib/python3.11/site-packages/dspy/player.py:38\u001B[0;36m\u001B[0m\n\u001B[0;31m    print 'Too many generators to append another'\u001B[0m\n\u001B[0m    ^\u001B[0m\n\u001B[0;31mSyntaxError\u001B[0m\u001B[0;31m:\u001B[0m Missing parentheses in call to 'print'. Did you mean print(...)?\n"
     ]
    }
   ],
   "source": [
    "import time\n",
    "import dspy\n",
    "from dspy.datasets.gsm8k import GSM8K, gsm8k_metric\n",
    "start_time = time.time()\n",
    "\n",
    "# Set up the LM\n",
    "turbo = dspy.OpenAI(model='gpt-3.5-turbo-instruct', max_tokens=250)\n",
    "dspy.settings.configure(lm=turbo)\n",
    "\n",
    "# Load math questions from the GSM8K dataset\n",
    "gms8k = GSM8K()\n",
    "trainset, devset = gms8k.train, gms8k.dev"
   ],
   "metadata": {
    "collapsed": false,
    "ExecuteTime": {
     "end_time": "2024-04-01T15:40:33.527992Z",
     "start_time": "2024-04-01T15:40:33.523045Z"
    }
   },
   "id": "1aa32826682c4818",
   "execution_count": 8
  },
  {
   "cell_type": "code",
   "outputs": [],
   "source": [],
   "metadata": {
    "collapsed": false
   },
   "id": "baad1156432a42e7"
  },
  {
   "cell_type": "code",
   "outputs": [],
   "source": [
    "class CoT(dspy.Module):\n",
    "    def __init__(self):\n",
    "        super().__init__()\n",
    "        self.prog = dspy.ChainOfThought(\"question -> answer\")\n",
    "    \n",
    "    def forward(self, question):\n",
    "        return self.prog(question=question)"
   ],
   "metadata": {
    "collapsed": false
   },
   "id": "b63acb573c4dac09"
  },
  {
   "cell_type": "code",
   "outputs": [],
   "source": [],
   "metadata": {
    "collapsed": false
   },
   "id": "b76131dc2c5290d4"
  },
  {
   "cell_type": "code",
   "outputs": [
    {
     "ename": "SyntaxError",
     "evalue": "Missing parentheses in call to 'print'. Did you mean print(...)? (player.py, line 38)",
     "output_type": "error",
     "traceback": [
      "Traceback \u001B[0;36m(most recent call last)\u001B[0m:\n",
      "\u001B[0m  File \u001B[1;32m~/llm-proxy-tests/.venv/lib/python3.11/site-packages/IPython/core/interactiveshell.py:3577\u001B[0m in \u001B[1;35mrun_code\u001B[0m\n    exec(code_obj, self.user_global_ns, self.user_ns)\u001B[0m\n",
      "\u001B[0m  Cell \u001B[1;32mIn[10], line 1\u001B[0m\n    from dspy.teleprompt import BootstrapFewShotWithRandomSearch\u001B[0m\n",
      "\u001B[0;36m  File \u001B[0;32m~/llm-proxy-tests/.venv/lib/python3.11/site-packages/dspy/__init__.py:12\u001B[0;36m\n\u001B[0;31m    from dspy.player import Player\u001B[0;36m\n",
      "\u001B[0;36m  File \u001B[0;32m~/llm-proxy-tests/.venv/lib/python3.11/site-packages/dspy/player.py:38\u001B[0;36m\u001B[0m\n\u001B[0;31m    print 'Too many generators to append another'\u001B[0m\n\u001B[0m    ^\u001B[0m\n\u001B[0;31mSyntaxError\u001B[0m\u001B[0;31m:\u001B[0m Missing parentheses in call to 'print'. Did you mean print(...)?\n"
     ]
    }
   ],
   "source": [
    "from dspy.teleprompt import BootstrapFewShotWithRandomSearch\n",
    "\n",
    "# Set up the optimizer: we want to \"bootstrap\" (i.e., self-generate) 8-shot examples of our CoT program.\n",
    "# The optimizer will repeat this 10 times (plus some initial attempts) before selecting its best attempt on the devset.\n",
    "config = dict(max_bootstrapped_demos=8, max_labeled_demos=8, num_candidate_programs=10, num_threads=4)\n",
    "\n",
    "# Optimize! Use the `gms8k_metric` here. In general, the metric is going to tell the optimizer how well it's doing.\n",
    "teleprompter = BootstrapFewShotWithRandomSearch(metric=gsm8k_metric, **config)\n",
    "optimized_cot = teleprompter.compile(CoT(), trainset=trainset, valset=devset)"
   ],
   "metadata": {
    "collapsed": false,
    "ExecuteTime": {
     "end_time": "2024-04-01T15:41:10.247454Z",
     "start_time": "2024-04-01T15:41:10.240410Z"
    }
   },
   "id": "bc1ce19d2954555b",
   "execution_count": 10
  },
  {
   "cell_type": "code",
   "outputs": [],
   "source": [],
   "metadata": {
    "collapsed": false
   },
   "id": "e0edcf862bffb2b1"
  }
 ],
 "metadata": {
  "kernelspec": {
   "display_name": "Python 3",
   "language": "python",
   "name": "python3"
  },
  "language_info": {
   "codemirror_mode": {
    "name": "ipython",
    "version": 2
   },
   "file_extension": ".py",
   "mimetype": "text/x-python",
   "name": "python",
   "nbconvert_exporter": "python",
   "pygments_lexer": "ipython2",
   "version": "2.7.6"
  }
 },
 "nbformat": 4,
 "nbformat_minor": 5
}
