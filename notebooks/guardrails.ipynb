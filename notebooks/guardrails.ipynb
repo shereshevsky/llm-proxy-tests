{
 "cells": [
  {
   "cell_type": "code",
   "execution_count": 2,
   "id": "initial_id",
   "metadata": {
    "collapsed": true,
    "ExecuteTime": {
     "end_time": "2024-04-01T11:52:45.720248Z",
     "start_time": "2024-04-01T11:52:45.711521Z"
    }
   },
   "outputs": [],
   "source": [
    "from pydantic import BaseModel, Field\n",
    "from guardrails import Guard\n",
    "import openai\n",
    "import os\n",
    "from dotenv import load_dotenv"
   ]
  },
  {
   "cell_type": "code",
   "outputs": [
    {
     "data": {
      "text/plain": "True"
     },
     "execution_count": 9,
     "metadata": {},
     "output_type": "execute_result"
    }
   ],
   "source": [
    "load_dotenv('../.env')"
   ],
   "metadata": {
    "collapsed": false,
    "ExecuteTime": {
     "end_time": "2024-04-01T11:55:45.268410Z",
     "start_time": "2024-04-01T11:55:45.264144Z"
    }
   },
   "id": "bee3c9ffb5768bb5",
   "execution_count": 9
  },
  {
   "cell_type": "code",
   "outputs": [],
   "source": [
    "cert_file = '/Users/alexander/Documents/mitmproxy-ca-cert.pem' \n",
    "os.environ['REQUESTS_CA_BUNDLE'] = cert_file\n",
    "os.environ['SSL_CERT_FILE'] = cert_file\n",
    "os.environ['HTTPS_PROXY'] = 'http://127.0.0.1:8080'"
   ],
   "metadata": {
    "collapsed": false,
    "ExecuteTime": {
     "end_time": "2024-04-01T11:57:54.816158Z",
     "start_time": "2024-04-01T11:57:54.811485Z"
    }
   },
   "id": "2450109c6ee3fa86",
   "execution_count": 11
  },
  {
   "cell_type": "code",
   "outputs": [
    {
     "name": "stdout",
     "output_type": "stream",
     "text": [
      "{\n",
      "    \"pet_type\": \"dog\",\n",
      "    \"name\": \"Buddy\n"
     ]
    }
   ],
   "source": [
    "class Pet(BaseModel):\n",
    "    pet_type: str = Field(description=\"Species of pet\")\n",
    "    name: str = Field(description=\"a unique pet name\")\n",
    "\n",
    "prompt = \"\"\"\n",
    "    What kind of pet should I get and what should I name it?\n",
    "\n",
    "    ${gr.complete_json_suffix_v2}\n",
    "\"\"\"\n",
    "guard = Guard.from_pydantic(output_class=Pet, prompt=prompt)\n",
    "\n",
    "validated_output, *rest = guard(\n",
    "    llm_api=openai.completions.create,\n",
    "    engine=\"gpt-3.5-turbo-instruct\"\n",
    ")\n",
    "\n",
    "print(f\"{validated_output}\")"
   ],
   "metadata": {
    "collapsed": false,
    "ExecuteTime": {
     "end_time": "2024-04-01T11:58:02.192879Z",
     "start_time": "2024-04-01T11:58:00.829202Z"
    }
   },
   "id": "5e8a9c36189fd1e3",
   "execution_count": 12
  },
  {
   "cell_type": "code",
   "outputs": [],
   "source": [],
   "metadata": {
    "collapsed": false
   },
   "id": "9845aaf3fbfa5ef9"
  }
 ],
 "metadata": {
  "kernelspec": {
   "display_name": "Python 3",
   "language": "python",
   "name": "python3"
  },
  "language_info": {
   "codemirror_mode": {
    "name": "ipython",
    "version": 2
   },
   "file_extension": ".py",
   "mimetype": "text/x-python",
   "name": "python",
   "nbconvert_exporter": "python",
   "pygments_lexer": "ipython2",
   "version": "2.7.6"
  }
 },
 "nbformat": 4,
 "nbformat_minor": 5
}
